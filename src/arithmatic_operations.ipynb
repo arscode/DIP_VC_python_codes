{
 "cells": [
  {
   "cell_type": "markdown",
   "metadata": {},
   "source": [
    "# Arithmetic operations between two images"
   ]
  },
  {
   "cell_type": "markdown",
   "metadata": {},
   "source": [
    "## Adding two images"
   ]
  },
  {
   "cell_type": "code",
   "execution_count": 11,
   "metadata": {},
   "outputs": [
    {
     "data": {
      "text/plain": [
       "True"
      ]
     },
     "execution_count": 11,
     "metadata": {},
     "output_type": "execute_result"
    }
   ],
   "source": [
    "import cv2\n",
    "import numpy as np\n",
    "\n",
    "# Note: two images need to be of same size\n",
    "img1 = cv2.imread('./img/mountains1.jpg')\n",
    "img2 = cv2.imread('./img/birds1.jpg')\n",
    "\n",
    "dst = cv2.addWeighted(img1,0.7, img2, 0.4, 0)\n",
    "\n",
    "cv2.imwrite('./img/add_img.jpg', dst)"
   ]
  },
  {
   "cell_type": "markdown",
   "metadata": {},
   "source": [
    "## Subtract two images"
   ]
  },
  {
   "cell_type": "code",
   "execution_count": 13,
   "metadata": {},
   "outputs": [
    {
     "data": {
      "text/plain": [
       "True"
      ]
     },
     "execution_count": 13,
     "metadata": {},
     "output_type": "execute_result"
    }
   ],
   "source": [
    "import cv2\n",
    "import numpy as np\n",
    "\n",
    "# two images need to be of same size\n",
    "img1 = cv2.imread('./img/mountains1.jpg')\n",
    "img2 = cv2.imread('./img/birds1.jpg')\n",
    "\n",
    "res = cv2.subtract(img1, img2)\n",
    "\n",
    "cv2.imwrite('./img/sub_img.jpg', res)"
   ]
  },
  {
   "cell_type": "markdown",
   "metadata": {},
   "source": [
    "## Multiply two images"
   ]
  },
  {
   "cell_type": "code",
   "execution_count": 14,
   "metadata": {},
   "outputs": [
    {
     "data": {
      "text/plain": [
       "True"
      ]
     },
     "execution_count": 14,
     "metadata": {},
     "output_type": "execute_result"
    }
   ],
   "source": [
    "import cv2\n",
    "import numpy as np\n",
    "\n",
    "# two images need to be of same size\n",
    "img1 = cv2.imread('./img/mountains1.jpg')\n",
    "img2 = cv2.imread('./img/birds1.jpg')\n",
    "\n",
    "res = cv2.multiply(img1, img2)\n",
    "\n",
    "cv2.imwrite('./img/mul_img.jpg', res)"
   ]
  },
  {
   "cell_type": "markdown",
   "metadata": {},
   "source": [
    "## Divide two images"
   ]
  },
  {
   "cell_type": "code",
   "execution_count": 18,
   "metadata": {},
   "outputs": [
    {
     "data": {
      "text/plain": [
       "True"
      ]
     },
     "execution_count": 18,
     "metadata": {},
     "output_type": "execute_result"
    }
   ],
   "source": [
    "import cv2\n",
    "import numpy as np\n",
    "\n",
    "# two images need to be of same size\n",
    "img1 = cv2.imread('./img/mountains1.jpg')\n",
    "img2 = cv2.imread('./img/birds1.jpg')\n",
    "\n",
    "res = cv2.divide(img1, img2)\n",
    "\n",
    "cv2.imwrite('./img/div_img.jpg', res)"
   ]
  },
  {
   "cell_type": "code",
   "execution_count": null,
   "metadata": {},
   "outputs": [],
   "source": []
  }
 ],
 "metadata": {
  "kernelspec": {
   "display_name": "Python 3",
   "language": "python",
   "name": "python3"
  },
  "language_info": {
   "codemirror_mode": {
    "name": "ipython",
    "version": 3
   },
   "file_extension": ".py",
   "mimetype": "text/x-python",
   "name": "python",
   "nbconvert_exporter": "python",
   "pygments_lexer": "ipython3",
   "version": "3.8.8"
  }
 },
 "nbformat": 4,
 "nbformat_minor": 4
}
