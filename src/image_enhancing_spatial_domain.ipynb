{
 "cells": [
  {
   "cell_type": "markdown",
   "metadata": {},
   "source": [
    "# Image enchncing in spatial domain"
   ]
  },
  {
   "cell_type": "markdown",
   "metadata": {},
   "source": [
    "## using image negative"
   ]
  },
  {
   "cell_type": "markdown",
   "metadata": {},
   "source": [
    "All processing will be done on pixel values. <br>\n",
    "__s = T(r)__,<br>\n",
    "where T is gray level transformation function and s is the processed image pixel values and r is the original pixel values.\n",
    "\n",
    "- Image negative:\n",
    "__s = (L-1) - r__ <br>\n",
    "L = number of grey levels.<br><br>\n",
    "\n",
    "- Thresholding:\n",
    "\n",
    "    s = L - 1 for r > Threshold<br>\n",
    "    s = 0 for r < Threshold <br>\n",
    "\n",
    "\n",
    "- Grey level slicing with background:\n",
    "\n",
    " s = L - 1 for a < r < b, where a and b some specific range of grey level<br>\n",
    " s = r otherwise\n",
    " \n",
    "\n"
   ]
  },
  {
   "cell_type": "code",
   "execution_count": 13,
   "metadata": {},
   "outputs": [
    {
     "data": {
      "text/plain": [
       "True"
      ]
     },
     "execution_count": 13,
     "metadata": {},
     "output_type": "execute_result"
    }
   ],
   "source": [
    "import cv2\n",
    "import numpy as np\n",
    "\n",
    "# image in grayscale\n",
    "src = cv2.imread('./img/yoda.jpg',0)\n",
    "\n",
    "# to get total number of rows and colums of the image\n",
    "rows, cols = src.shape\n",
    "\n",
    "# to get the max grey level\n",
    "L = src.max()\n",
    "\n",
    "# max grey level value minus the source image provides negative image\n",
    "img_negative = L - src\n",
    "\n",
    "cv2.imwrite('./img/yoda_neg.jpg', img_negative)\n",
    "\n",
    "# Thresholding without background  \n",
    "# Let threshold =T \n",
    "# Let pixel value in the original be denoted by r \n",
    "# Let pixel value in the new image be denoted by s \n",
    "# If r<T, s= 0 \n",
    "# If r>T, s=255 \n",
    "\n",
    "T = 150\n",
    "img_thresh = np.zeros((rows,  cols), dtype=int)\n",
    "\n",
    "for i in range(rows):\n",
    "    for k in range(cols):\n",
    "        if src[i,k] < T:\n",
    "            img_thresh[i,k] = 0\n",
    "        else:\n",
    "            src[i,k] = 255\n",
    "\n",
    "cv2.imwrite('./img/yoda_thresh.jpg', img_thresh)\n",
    "\n",
    "# grey level slicing with background\n",
    "T1 = 100\n",
    "T2 = 200\n",
    "\n",
    "img_thresh_back = np.zeros((rows,cols), dtype=int) \n",
    "\n",
    "for i in range(rows):\n",
    "    for j in range(cols):\n",
    "        if T1< src[i,j] < T2:\n",
    "            img_thresh_back[i,j] = 255\n",
    "        else:\n",
    "            img_thresh_back[i,j] = src[i,j]\n",
    "cv2.imwrite('./img/yoda_thresh_back.jpg', img_thresh_back)"
   ]
  },
  {
   "cell_type": "markdown",
   "metadata": {},
   "source": [
    "## using log transformation"
   ]
  },
  {
   "cell_type": "markdown",
   "metadata": {},
   "source": [
    "- Log transformation : \n",
    "    s = c.log(1+r), where c = 255/(log(1+m)), where m = max pixel value, c = scaling constant"
   ]
  },
  {
   "cell_type": "code",
   "execution_count": 17,
   "metadata": {},
   "outputs": [
    {
     "name": "stderr",
     "output_type": "stream",
     "text": [
      "//anaconda3/lib/python3.7/site-packages/ipykernel_launcher.py:10: RuntimeWarning: divide by zero encountered in log\n",
      "  # Remove the CWD from sys.path while we load stuff.\n"
     ]
    },
    {
     "data": {
      "text/plain": [
       "True"
      ]
     },
     "execution_count": 17,
     "metadata": {},
     "output_type": "execute_result"
    }
   ],
   "source": [
    "from __future__ import division\n",
    "import cv2 \n",
    "import numpy as np \n",
    "  \n",
    "# Open the image. \n",
    "img = cv2.imread('./img/yoda.jpg') \n",
    "  \n",
    "# Apply log transform. \n",
    "c = 255/(np.log(1 + np.max(img))) \n",
    "log_transformed = c * np.log(1 + img) \n",
    "  \n",
    "# Specify the data type. \n",
    "log_transformed = np.array(log_transformed, dtype = np.uint8) \n",
    "  \n",
    "# Save the output. \n",
    "cv2.imwrite('./img/yoda_log_transformed.jpg', log_transformed) \n"
   ]
  },
  {
   "cell_type": "markdown",
   "metadata": {},
   "source": [
    "### warning handling technique: use log1p()"
   ]
  },
  {
   "cell_type": "code",
   "execution_count": 1,
   "metadata": {},
   "outputs": [
    {
     "data": {
      "text/plain": [
       "True"
      ]
     },
     "execution_count": 1,
     "metadata": {},
     "output_type": "execute_result"
    }
   ],
   "source": [
    "from __future__ import division\n",
    "import cv2 \n",
    "import numpy as np \n",
    "  \n",
    "# Open the image. \n",
    "img = cv2.imread('./img/yoda.jpg') \n",
    "  \n",
    "# Apply log transform. \n",
    "c = 255/(np.log1p(np.max(img)))\n",
    "log_transformed = c * np.log1p(img) \n",
    "  \n",
    "# Specify the data type. \n",
    "log_transformed = np.array(log_transformed, dtype = np.uint8) \n",
    "  \n",
    "# Save the output. \n",
    "cv2.imwrite('./img/yoda_log_transformed.jpg', log_transformed) \n",
    "\n"
   ]
  },
  {
   "cell_type": "markdown",
   "metadata": {},
   "source": [
    "## using power-law transformation"
   ]
  },
  {
   "cell_type": "code",
   "execution_count": 20,
   "metadata": {},
   "outputs": [],
   "source": [
    "import cv2\n",
    "import numpy as np\n",
    "\n",
    "src = cv2.imread('./img/mri_bone.jpg')\n",
    "\n",
    "# checking for different gamma values\n",
    "gamma_val = [0.1, 0.25, 1.5, 2.3]\n",
    "for gamma in gamma_val:\n",
    "    gamma_corrected = np.array(255*(src/255)**gamma, dtype='uint8')\n",
    "    \n",
    "    # Save edited images. \n",
    "    cv2.imwrite('./img/gamma_transformed'+str(gamma)+'.jpg', gamma_corrected) \n",
    "\n"
   ]
  },
  {
   "cell_type": "markdown",
   "metadata": {},
   "source": [
    "## piecewise-linear transformation"
   ]
  },
  {
   "cell_type": "markdown",
   "metadata": {},
   "source": [
    "As the name suggests, the function is not completly linear, its liners between certain x intervals.<br>\n",
    "\n",
    "C = (I_max - I_min)/(I_max + I_min), where C is contrast<br>\n",
    "\n",
    "\n",
    "<img src='linear.png' width=300 height=300>"
   ]
  },
  {
   "cell_type": "code",
   "execution_count": 23,
   "metadata": {},
   "outputs": [
    {
     "data": {
      "text/plain": [
       "True"
      ]
     },
     "execution_count": 23,
     "metadata": {},
     "output_type": "execute_result"
    }
   ],
   "source": [
    "import cv2\n",
    "import numpy as np\n",
    "\n",
    "# function to map intensity level\n",
    "def pixelValueMap(pixVal, r1, s1, r2, s2):\n",
    "    \n",
    "    if (0 <= pixVal and pixVal <= r1):\n",
    "        return (s1/s2)*pixVal\n",
    "    \n",
    "    elif (r1 <= pixVal and pixVal <= r2):\n",
    "        return ((s2 - s1)/(r2 - r1))*(pixVal - r1) + s1\n",
    "    \n",
    "    else:\n",
    "        return ((255 - s2)/(255 - r2))*(pixVal - r2) + s2\n",
    "\n",
    "src_img = cv2.imread('./img/mri_bone.jpg')\n",
    "\n",
    "# parameters\n",
    "r1 = 70\n",
    "s1 = 20\n",
    "r2 = 200\n",
    "s2 = 255\n",
    "\n",
    "# vectorize the function to apply it on each pixel value in ndarray\n",
    "pixelValue_vec = np.vectorize(pixelValueMap) \n",
    "\n",
    "# contranst stretching\n",
    "constrast_stretched = pixelValue_vec(src_img, r1, s1, r2, s2)\n",
    "\n",
    "cv2.imwrite('./img/mri_liner.jpg', constrast_stretched)"
   ]
  },
  {
   "cell_type": "markdown",
   "metadata": {},
   "source": [
    "# Enhancing image using histogram equalization method"
   ]
  },
  {
   "cell_type": "code",
   "execution_count": 24,
   "metadata": {},
   "outputs": [
    {
     "data": {
      "image/png": "[encoded data removed]",
      "text/plain": [
       "<Figure size 432x288 with 1 Axes>"
      ]
     },
     "metadata": {
      "needs_background": "light"
     },
     "output_type": "display_data"
    }
   ],
   "source": [
    "import cv2\n",
    "import numpy as np\n",
    "from matplotlib import pyplot as plt\n",
    "\n",
    "src_img = cv2.imread('./img/wiki.jpg', 0)\n",
    "\n",
    "hist,bins = np.histogram(src_img.flatten(),256,[0,256])\n",
    "\n",
    "cdf = hist.cumsum()\n",
    "cdf_normalized = cdf * hist.max()/ cdf.max()\n",
    "\n",
    "plt.plot(cdf_normalized, color = 'b')\n",
    "plt.hist(src_img.flatten(),256,[0,256], color = 'r')\n",
    "plt.xlim([0,256])\n",
    "plt.legend(('cdf','histogram'), loc = 'upper left')\n",
    "plt.show()"
   ]
  },
  {
   "cell_type": "markdown",
   "metadata": {},
   "source": [
    "We can see histogram lies in brighter region. We need the full spectrum. For that, we need a transformation function which maps the input pixels in brighter region to output pixels in full region. That is what histogram equalization does.\n",
    "\n",
    "Now we find the minimum histogram value (excluding 0) and apply the histogram equalization equation as given in wiki page. But I have used here, the masked array concept array from Numpy. For masked array, all operations are performed on non-masked elements."
   ]
  },
  {
   "cell_type": "code",
   "execution_count": 25,
   "metadata": {},
   "outputs": [],
   "source": [
    "cdf_m = np.ma.masked_equal(cdf,0)\n",
    "cdf_m = (cdf_m - cdf_m.min())*255/(cdf_m.max()-cdf_m.min())\n",
    "cdf = np.ma.filled(cdf_m,0).astype('uint8')"
   ]
  },
  {
   "cell_type": "code",
   "execution_count": 27,
   "metadata": {},
   "outputs": [],
   "source": [
    "img2=cdf[src_img]"
   ]
  },
  {
   "cell_type": "code",
   "execution_count": 29,
   "metadata": {},
   "outputs": [
    {
     "data": {
      "image/png": "[encoded data removed]",
      "text/plain": [
       "<Figure size 432x288 with 1 Axes>"
      ]
     },
     "metadata": {
      "needs_background": "light"
     },
     "output_type": "display_data"
    }
   ],
   "source": [
    "hist,bins = np.histogram(img2.flatten(),256,[0,256])\n",
    "\n",
    "cdf = hist.cumsum()\n",
    "cdf_normalized = cdf * hist.max()/ cdf.max()\n",
    "\n",
    "plt.plot(cdf_normalized, color = 'b')\n",
    "plt.hist(img2.flatten(),256,[0,256], color = 'r')\n",
    "plt.xlim([0,256])\n",
    "plt.legend(('cdf','histogram'), loc = 'upper left')\n",
    "plt.show()"
   ]
  },
  {
   "cell_type": "markdown",
   "metadata": {},
   "source": [
    "### using openCV"
   ]
  },
  {
   "cell_type": "code",
   "execution_count": 32,
   "metadata": {},
   "outputs": [
    {
     "data": {
      "text/plain": [
       "True"
      ]
     },
     "execution_count": 32,
     "metadata": {},
     "output_type": "execute_result"
    }
   ],
   "source": [
    "import cv2\n",
    "\n",
    "img = cv2.imread('./img/wiki.jpg',0)\n",
    "equ = cv2.equalizeHist(img)\n",
    "res = np.hstack((img,equ)) #stacking images side-by-side\n",
    "cv2.imwrite('./img/res.png',res)"
   ]
  },
  {
   "cell_type": "code",
   "execution_count": null,
   "metadata": {},
   "outputs": [],
   "source": []
  }
 ],
 "metadata": {
  "kernelspec": {
   "display_name": "Python 3",
   "language": "python",
   "name": "python3"
  },
  "language_info": {
   "codemirror_mode": {
    "name": "ipython",
    "version": 3
   },
   "file_extension": ".py",
   "mimetype": "text/x-python",
   "name": "python",
   "nbconvert_exporter": "python",
   "pygments_lexer": "ipython3",
   "version": "3.8.8"
  }
 },
 "nbformat": 4,
 "nbformat_minor": 4
}
