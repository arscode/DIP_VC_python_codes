{
 "cells": [
  {
   "cell_type": "markdown",
   "metadata": {},
   "source": [
    "# Noise addition in an image"
   ]
  },
  {
   "cell_type": "code",
   "execution_count": 8,
   "metadata": {},
   "outputs": [
    {
     "name": "stderr",
     "output_type": "stream",
     "text": [
      "//anaconda3/lib/python3.7/site-packages/ipykernel_launcher.py:40: FutureWarning: Using a non-tuple sequence for multidimensional indexing is deprecated; use `arr[tuple(seq)]` instead of `arr[seq]`. In the future this will be interpreted as an array index, `arr[np.array(seq)]`, which will result either in an error or a different result.\n",
      "//anaconda3/lib/python3.7/site-packages/ipykernel_launcher.py:45: FutureWarning: Using a non-tuple sequence for multidimensional indexing is deprecated; use `arr[tuple(seq)]` instead of `arr[seq]`. In the future this will be interpreted as an array index, `arr[np.array(seq)]`, which will result either in an error or a different result.\n"
     ]
    },
    {
     "data": {
      "text/plain": [
       "True"
      ]
     },
     "execution_count": 8,
     "metadata": {},
     "output_type": "execute_result"
    }
   ],
   "source": [
    "import cv2\n",
    "import numpy as np\n",
    "\n",
    "def add_noise(noise_typ, img):\n",
    "    \"\"\"\n",
    "    Parameters\n",
    "    ----------\n",
    "    image : ndarray\n",
    "    Input image data. Will be converted to float.\n",
    "    mode : str\n",
    "    One of the following strings, selecting the type of noise to add:\n",
    "\n",
    "    'gauss'     Gaussian-distributed additive noise.\n",
    "    'poisson'   Poisson-distributed noise generated from the data.\n",
    "    'salt_and_pepper'       Replaces random pixels with 0 or 1.\n",
    "    'speckle'   Multiplicative noise using out = image + n*image,where\n",
    "                n is uniform noise with specified mean & variance.\n",
    "                \n",
    "    \"\"\"\n",
    "    \n",
    "    if noise_typ == 'gauss':\n",
    "        row, col, ch = img.shape\n",
    "        mean = 0\n",
    "        var = 0.2\n",
    "        sigma = np.sqrt(var)\n",
    "        gauss = np.random.normal(mean, sigma, (row, col, ch))\n",
    "        gauss = gauss.reshape(row, col, ch)\n",
    "        noisy = img + gauss\n",
    "        return noisy\n",
    "    \n",
    "    elif noise_typ == 'salt_and_pepper':\n",
    "        rpw, col, ch = img.shape\n",
    "        s_vs_p = 0.5\n",
    "        amount = 0.004\n",
    "        out = np.copy(img)\n",
    "        \n",
    "        # salt mode\n",
    "        num_salt = np.ceil(amount * img.size * s_vs_p)\n",
    "        coords = [np.random.randint(0, k-1, int(num_salt)) for k in img.shape]\n",
    "        out[coords] = 1\n",
    "        \n",
    "        # pepper mode\n",
    "        num_pepper = np.ceil(amount * img.size * (1.0 - s_vs_p))\n",
    "        coords = [np.random.randint(0, j-1, int(num_pepper)) for j in img.shape]\n",
    "        out[coords] = 0\n",
    "        return out\n",
    "    \n",
    "    elif noise_typ == 'poisson':\n",
    "        vals = len(np.unique(img))\n",
    "        vals = 2** np.ceil(np.log2(vals))\n",
    "        noisy = np.random.poisson(img * vals) / float(vals)\n",
    "        return noisy\n",
    "    \n",
    "    elif noise_typ == 'speckle':\n",
    "        row,col,ch = img.shape\n",
    "        gauss = np.random.randn(row,col,ch)\n",
    "        gauss = gauss.reshape(row,col,ch)\n",
    "        noisy = img + img * gauss\n",
    "        return noisy\n",
    "    \n",
    "    \n",
    "src_img = cv2.imread('./img/gray_dog.jpg')  \n",
    "gauss_noisy_img = add_noise('gauss', src_img)\n",
    "sp_noisy_img = add_noise('salt_and_pepper', src_img)\n",
    "    \n",
    "cv2.imwrite('./img/gauss_noisy.jpg', gauss_noisy_img)    \n",
    "cv2.imwrite('./img/saltAndPepepr_noisy.jpg', sp_noisy_img)\n",
    "\n",
    "        \n",
    "        \n",
    "        \n"
   ]
  },
  {
   "cell_type": "code",
   "execution_count": null,
   "metadata": {},
   "outputs": [],
   "source": []
  }
 ],
 "metadata": {
  "kernelspec": {
   "display_name": "Python 3",
   "language": "python",
   "name": "python3"
  },
  "language_info": {
   "codemirror_mode": {
    "name": "ipython",
    "version": 3
   },
   "file_extension": ".py",
   "mimetype": "text/x-python",
   "name": "python",
   "nbconvert_exporter": "python",
   "pygments_lexer": "ipython3",
   "version": "3.8.8"
  }
 },
 "nbformat": 4,
 "nbformat_minor": 4
}
