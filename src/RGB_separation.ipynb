{
 "cells": [
  {
   "cell_type": "markdown",
   "metadata": {},
   "source": [
    "# Separating color channels R, G, B from a colored image"
   ]
  },
  {
   "cell_type": "code",
   "execution_count": 18,
   "metadata": {},
   "outputs": [
    {
     "data": {
      "text/plain": [
       "True"
      ]
     },
     "execution_count": 18,
     "metadata": {},
     "output_type": "execute_result"
    }
   ],
   "source": [
    "import cv2\n",
    "from matplotlib import pyplot as plt\n",
    "import numpy as np\n",
    "%matplotlib inline\n",
    "\n",
    "\n",
    "\n",
    "sample = cv2.imread('./img/rgb.png')\n",
    "# to split call split method\n",
    "\n",
    "blue, green, red = cv2.split(sample)\n",
    "cv2.imwrite('./img/blue.png', blue)\n",
    "cv2.imwrite('./img/green.png', green)\n",
    "cv2.imwrite('./img/red.png', red)\n",
    "\n"
   ]
  },
  {
   "cell_type": "markdown",
   "metadata": {},
   "source": [
    "we will create the “empty channel” by calling the zeros function of the numpy module. This will return a new ndarray array with the specified shape and filled with zeros.\n",
    "\n",
    "The shape of the new array (its dimensions) is specified as a tuple that is passed as first input of the zeros function.\n",
    "\n",
    "Naturally, we want the height and width of this “empty channel” to match the one from the other channels. We can use the shape attribute of one of these channels to set the shape of our “empty channel”."
   ]
  },
  {
   "cell_type": "code",
   "execution_count": 20,
   "metadata": {},
   "outputs": [
    {
     "data": {
      "text/plain": [
       "True"
      ]
     },
     "execution_count": 20,
     "metadata": {},
     "output_type": "execute_result"
    }
   ],
   "source": [
    "zeros = np.zeros(blue.shape, np.uint8)\n",
    "# to create a BGR image from 3 separate channels we need to call merge() function\n",
    "blue_BGR = cv2.merge((blue, zeros, zeros))\n",
    "green_BGR = cv2.merge((zeros, green, zeros))\n",
    "red_BGR = cv2.merge((zeros, zeros, red))\n",
    "\n",
    "# writing new separate R,G,B images\n",
    "cv2.imwrite('./img/blue_RGB.png', blue_BGR)\n",
    "cv2.imwrite('./img/green_RGB.png', green_BGR)\n",
    "cv2.imwrite('./img/red_RGB.png', red_BGR)"
   ]
  },
  {
   "cell_type": "code",
   "execution_count": null,
   "metadata": {},
   "outputs": [],
   "source": []
  }
 ],
 "metadata": {
  "kernelspec": {
   "display_name": "Python 3",
   "language": "python",
   "name": "python3"
  },
  "language_info": {
   "codemirror_mode": {
    "name": "ipython",
    "version": 3
   },
   "file_extension": ".py",
   "mimetype": "text/x-python",
   "name": "python",
   "nbconvert_exporter": "python",
   "pygments_lexer": "ipython3",
   "version": "3.8.8"
  }
 },
 "nbformat": 4,
 "nbformat_minor": 4
}
